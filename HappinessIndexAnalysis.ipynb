{
  "nbformat": 4,
  "nbformat_minor": 0,
  "metadata": {
    "colab": {
      "name": "HappinessIndexAnalysis.ipynb",
      "version": "0.3.2",
      "provenance": [],
      "include_colab_link": true
    },
    "kernelspec": {
      "name": "python3",
      "display_name": "Python 3"
    }
  },
  "cells": [
    {
      "cell_type": "markdown",
      "metadata": {
        "id": "view-in-github",
        "colab_type": "text"
      },
      "source": [
        "<a href=\"https://colab.research.google.com/github/KhyatiMahendru/HappinessIndexAnalysis/blob/master/HappinessIndexAnalysis.ipynb\" target=\"_parent\"><img src=\"https://colab.research.google.com/assets/colab-badge.svg\" alt=\"Open In Colab\"/></a>"
      ]
    },
    {
      "metadata": {
        "id": "zqMS9BWQJ7g_",
        "colab_type": "code",
        "colab": {}
      },
      "cell_type": "code",
      "source": [
        "import pandas as pd\n",
        "import numpy as np\n",
        "import matplotlib.pyplot as plt"
      ],
      "execution_count": 0,
      "outputs": []
    },
    {
      "metadata": {
        "id": "YHRSzMF365ei",
        "colab_type": "code",
        "outputId": "f7082a85-b54a-4d1d-b7e3-ddd65f4641cb",
        "colab": {
          "resources": {
            "http://localhost:8080/nbextensions/google.colab/files.js": {
              "data": "Ly8gQ29weXJpZ2h0IDIwMTcgR29vZ2xlIExMQwovLwovLyBMaWNlbnNlZCB1bmRlciB0aGUgQXBhY2hlIExpY2Vuc2UsIFZlcnNpb24gMi4wICh0aGUgIkxpY2Vuc2UiKTsKLy8geW91IG1heSBub3QgdXNlIHRoaXMgZmlsZSBleGNlcHQgaW4gY29tcGxpYW5jZSB3aXRoIHRoZSBMaWNlbnNlLgovLyBZb3UgbWF5IG9idGFpbiBhIGNvcHkgb2YgdGhlIExpY2Vuc2UgYXQKLy8KLy8gICAgICBodHRwOi8vd3d3LmFwYWNoZS5vcmcvbGljZW5zZXMvTElDRU5TRS0yLjAKLy8KLy8gVW5sZXNzIHJlcXVpcmVkIGJ5IGFwcGxpY2FibGUgbGF3IG9yIGFncmVlZCB0byBpbiB3cml0aW5nLCBzb2Z0d2FyZQovLyBkaXN0cmlidXRlZCB1bmRlciB0aGUgTGljZW5zZSBpcyBkaXN0cmlidXRlZCBvbiBhbiAiQVMgSVMiIEJBU0lTLAovLyBXSVRIT1VUIFdBUlJBTlRJRVMgT1IgQ09ORElUSU9OUyBPRiBBTlkgS0lORCwgZWl0aGVyIGV4cHJlc3Mgb3IgaW1wbGllZC4KLy8gU2VlIHRoZSBMaWNlbnNlIGZvciB0aGUgc3BlY2lmaWMgbGFuZ3VhZ2UgZ292ZXJuaW5nIHBlcm1pc3Npb25zIGFuZAovLyBsaW1pdGF0aW9ucyB1bmRlciB0aGUgTGljZW5zZS4KCi8qKgogKiBAZmlsZW92ZXJ2aWV3IEhlbHBlcnMgZm9yIGdvb2dsZS5jb2xhYiBQeXRob24gbW9kdWxlLgogKi8KKGZ1bmN0aW9uKHNjb3BlKSB7CmZ1bmN0aW9uIHNwYW4odGV4dCwgc3R5bGVBdHRyaWJ1dGVzID0ge30pIHsKICBjb25zdCBlbGVtZW50ID0gZG9jdW1lbnQuY3JlYXRlRWxlbWVudCgnc3BhbicpOwogIGVsZW1lbnQudGV4dENvbnRlbnQgPSB0ZXh0OwogIGZvciAoY29uc3Qga2V5IG9mIE9iamVjdC5rZXlzKHN0eWxlQXR0cmlidXRlcykpIHsKICAgIGVsZW1lbnQuc3R5bGVba2V5XSA9IHN0eWxlQXR0cmlidXRlc1trZXldOwogIH0KICByZXR1cm4gZWxlbWVudDsKfQoKLy8gTWF4IG51bWJlciBvZiBieXRlcyB3aGljaCB3aWxsIGJlIHVwbG9hZGVkIGF0IGEgdGltZS4KY29uc3QgTUFYX1BBWUxPQURfU0laRSA9IDEwMCAqIDEwMjQ7Ci8vIE1heCBhbW91bnQgb2YgdGltZSB0byBibG9jayB3YWl0aW5nIGZvciB0aGUgdXNlci4KY29uc3QgRklMRV9DSEFOR0VfVElNRU9VVF9NUyA9IDMwICogMTAwMDsKCmZ1bmN0aW9uIF91cGxvYWRGaWxlcyhpbnB1dElkLCBvdXRwdXRJZCkgewogIGNvbnN0IHN0ZXBzID0gdXBsb2FkRmlsZXNTdGVwKGlucHV0SWQsIG91dHB1dElkKTsKICBjb25zdCBvdXRwdXRFbGVtZW50ID0gZG9jdW1lbnQuZ2V0RWxlbWVudEJ5SWQob3V0cHV0SWQpOwogIC8vIENhY2hlIHN0ZXBzIG9uIHRoZSBvdXRwdXRFbGVtZW50IHRvIG1ha2UgaXQgYXZhaWxhYmxlIGZvciB0aGUgbmV4dCBjYWxsCiAgLy8gdG8gdXBsb2FkRmlsZXNDb250aW51ZSBmcm9tIFB5dGhvbi4KICBvdXRwdXRFbGVtZW50LnN0ZXBzID0gc3RlcHM7CgogIHJldHVybiBfdXBsb2FkRmlsZXNDb250aW51ZShvdXRwdXRJZCk7Cn0KCi8vIFRoaXMgaXMgcm91Z2hseSBhbiBhc3luYyBnZW5lcmF0b3IgKG5vdCBzdXBwb3J0ZWQgaW4gdGhlIGJyb3dzZXIgeWV0KSwKLy8gd2hlcmUgdGhlcmUgYXJlIG11bHRpcGxlIGFzeW5jaHJvbm91cyBzdGVwcyBhbmQgdGhlIFB5dGhvbiBzaWRlIGlzIGdvaW5nCi8vIHRvIHBvbGwgZm9yIGNvbXBsZXRpb24gb2YgZWFjaCBzdGVwLgovLyBUaGlzIHVzZXMgYSBQcm9taXNlIHRvIGJsb2NrIHRoZSBweXRob24gc2lkZSBvbiBjb21wbGV0aW9uIG9mIGVhY2ggc3RlcCwKLy8gdGhlbiBwYXNzZXMgdGhlIHJlc3VsdCBvZiB0aGUgcHJldmlvdXMgc3RlcCBhcyB0aGUgaW5wdXQgdG8gdGhlIG5leHQgc3RlcC4KZnVuY3Rpb24gX3VwbG9hZEZpbGVzQ29udGludWUob3V0cHV0SWQpIHsKICBjb25zdCBvdXRwdXRFbGVtZW50ID0gZG9jdW1lbnQuZ2V0RWxlbWVudEJ5SWQob3V0cHV0SWQpOwogIGNvbnN0IHN0ZXBzID0gb3V0cHV0RWxlbWVudC5zdGVwczsKCiAgY29uc3QgbmV4dCA9IHN0ZXBzLm5leHQob3V0cHV0RWxlbWVudC5sYXN0UHJvbWlzZVZhbHVlKTsKICByZXR1cm4gUHJvbWlzZS5yZXNvbHZlKG5leHQudmFsdWUucHJvbWlzZSkudGhlbigodmFsdWUpID0+IHsKICAgIC8vIENhY2hlIHRoZSBsYXN0IHByb21pc2UgdmFsdWUgdG8gbWFrZSBpdCBhdmFpbGFibGUgdG8gdGhlIG5leHQKICAgIC8vIHN0ZXAgb2YgdGhlIGdlbmVyYXRvci4KICAgIG91dHB1dEVsZW1lbnQubGFzdFByb21pc2VWYWx1ZSA9IHZhbHVlOwogICAgcmV0dXJuIG5leHQudmFsdWUucmVzcG9uc2U7CiAgfSk7Cn0KCi8qKgogKiBHZW5lcmF0b3IgZnVuY3Rpb24gd2hpY2ggaXMgY2FsbGVkIGJldHdlZW4gZWFjaCBhc3luYyBzdGVwIG9mIHRoZSB1cGxvYWQKICogcHJvY2Vzcy4KICogQHBhcmFtIHtzdHJpbmd9IGlucHV0SWQgRWxlbWVudCBJRCBvZiB0aGUgaW5wdXQgZmlsZSBwaWNrZXIgZWxlbWVudC4KICogQHBhcmFtIHtzdHJpbmd9IG91dHB1dElkIEVsZW1lbnQgSUQgb2YgdGhlIG91dHB1dCBkaXNwbGF5LgogKiBAcmV0dXJuIHshSXRlcmFibGU8IU9iamVjdD59IEl0ZXJhYmxlIG9mIG5leHQgc3RlcHMuCiAqLwpmdW5jdGlvbiogdXBsb2FkRmlsZXNTdGVwKGlucHV0SWQsIG91dHB1dElkKSB7CiAgY29uc3QgaW5wdXRFbGVtZW50ID0gZG9jdW1lbnQuZ2V0RWxlbWVudEJ5SWQoaW5wdXRJZCk7CiAgaW5wdXRFbGVtZW50LmRpc2FibGVkID0gZmFsc2U7CgogIGNvbnN0IG91dHB1dEVsZW1lbnQgPSBkb2N1bWVudC5nZXRFbGVtZW50QnlJZChvdXRwdXRJZCk7CiAgb3V0cHV0RWxlbWVudC5pbm5lckhUTUwgPSAnJzsKCiAgY29uc3QgcGlja2VkUHJvbWlzZSA9IG5ldyBQcm9taXNlKChyZXNvbHZlKSA9PiB7CiAgICBpbnB1dEVsZW1lbnQuYWRkRXZlbnRMaXN0ZW5lcignY2hhbmdlJywgKGUpID0+IHsKICAgICAgcmVzb2x2ZShlLnRhcmdldC5maWxlcyk7CiAgICB9KTsKICB9KTsKCiAgY29uc3QgY2FuY2VsID0gZG9jdW1lbnQuY3JlYXRlRWxlbWVudCgnYnV0dG9uJyk7CiAgaW5wdXRFbGVtZW50LnBhcmVudEVsZW1lbnQuYXBwZW5kQ2hpbGQoY2FuY2VsKTsKICBjYW5jZWwudGV4dENvbnRlbnQgPSAnQ2FuY2VsIHVwbG9hZCc7CiAgY29uc3QgY2FuY2VsUHJvbWlzZSA9IG5ldyBQcm9taXNlKChyZXNvbHZlKSA9PiB7CiAgICBjYW5jZWwub25jbGljayA9ICgpID0+IHsKICAgICAgcmVzb2x2ZShudWxsKTsKICAgIH07CiAgfSk7CgogIC8vIENhbmNlbCB1cGxvYWQgaWYgdXNlciBoYXNuJ3QgcGlja2VkIGFueXRoaW5nIGluIHRpbWVvdXQuCiAgY29uc3QgdGltZW91dFByb21pc2UgPSBuZXcgUHJvbWlzZSgocmVzb2x2ZSkgPT4gewogICAgc2V0VGltZW91dCgoKSA9PiB7CiAgICAgIHJlc29sdmUobnVsbCk7CiAgICB9LCBGSUxFX0NIQU5HRV9USU1FT1VUX01TKTsKICB9KTsKCiAgLy8gV2FpdCBmb3IgdGhlIHVzZXIgdG8gcGljayB0aGUgZmlsZXMuCiAgY29uc3QgZmlsZXMgPSB5aWVsZCB7CiAgICBwcm9taXNlOiBQcm9taXNlLnJhY2UoW3BpY2tlZFByb21pc2UsIHRpbWVvdXRQcm9taXNlLCBjYW5jZWxQcm9taXNlXSksCiAgICByZXNwb25zZTogewogICAgICBhY3Rpb246ICdzdGFydGluZycsCiAgICB9CiAgfTsKCiAgaWYgKCFmaWxlcykgewogICAgcmV0dXJuIHsKICAgICAgcmVzcG9uc2U6IHsKICAgICAgICBhY3Rpb246ICdjb21wbGV0ZScsCiAgICAgIH0KICAgIH07CiAgfQoKICBjYW5jZWwucmVtb3ZlKCk7CgogIC8vIERpc2FibGUgdGhlIGlucHV0IGVsZW1lbnQgc2luY2UgZnVydGhlciBwaWNrcyBhcmUgbm90IGFsbG93ZWQuCiAgaW5wdXRFbGVtZW50LmRpc2FibGVkID0gdHJ1ZTsKCiAgZm9yIChjb25zdCBmaWxlIG9mIGZpbGVzKSB7CiAgICBjb25zdCBsaSA9IGRvY3VtZW50LmNyZWF0ZUVsZW1lbnQoJ2xpJyk7CiAgICBsaS5hcHBlbmQoc3BhbihmaWxlLm5hbWUsIHtmb250V2VpZ2h0OiAnYm9sZCd9KSk7CiAgICBsaS5hcHBlbmQoc3BhbigKICAgICAgICBgKCR7ZmlsZS50eXBlIHx8ICduL2EnfSkgLSAke2ZpbGUuc2l6ZX0gYnl0ZXMsIGAgKwogICAgICAgIGBsYXN0IG1vZGlmaWVkOiAkewogICAgICAgICAgICBmaWxlLmxhc3RNb2RpZmllZERhdGUgPyBmaWxlLmxhc3RNb2RpZmllZERhdGUudG9Mb2NhbGVEYXRlU3RyaW5nKCkgOgogICAgICAgICAgICAgICAgICAgICAgICAgICAgICAgICAgICAnbi9hJ30gLSBgKSk7CiAgICBjb25zdCBwZXJjZW50ID0gc3BhbignMCUgZG9uZScpOwogICAgbGkuYXBwZW5kQ2hpbGQocGVyY2VudCk7CgogICAgb3V0cHV0RWxlbWVudC5hcHBlbmRDaGlsZChsaSk7CgogICAgY29uc3QgZmlsZURhdGFQcm9taXNlID0gbmV3IFByb21pc2UoKHJlc29sdmUpID0+IHsKICAgICAgY29uc3QgcmVhZGVyID0gbmV3IEZpbGVSZWFkZXIoKTsKICAgICAgcmVhZGVyLm9ubG9hZCA9IChlKSA9PiB7CiAgICAgICAgcmVzb2x2ZShlLnRhcmdldC5yZXN1bHQpOwogICAgICB9OwogICAgICByZWFkZXIucmVhZEFzQXJyYXlCdWZmZXIoZmlsZSk7CiAgICB9KTsKICAgIC8vIFdhaXQgZm9yIHRoZSBkYXRhIHRvIGJlIHJlYWR5LgogICAgbGV0IGZpbGVEYXRhID0geWllbGQgewogICAgICBwcm9taXNlOiBmaWxlRGF0YVByb21pc2UsCiAgICAgIHJlc3BvbnNlOiB7CiAgICAgICAgYWN0aW9uOiAnY29udGludWUnLAogICAgICB9CiAgICB9OwoKICAgIC8vIFVzZSBhIGNodW5rZWQgc2VuZGluZyB0byBhdm9pZCBtZXNzYWdlIHNpemUgbGltaXRzLiBTZWUgYi82MjExNTY2MC4KICAgIGxldCBwb3NpdGlvbiA9IDA7CiAgICB3aGlsZSAocG9zaXRpb24gPCBmaWxlRGF0YS5ieXRlTGVuZ3RoKSB7CiAgICAgIGNvbnN0IGxlbmd0aCA9IE1hdGgubWluKGZpbGVEYXRhLmJ5dGVMZW5ndGggLSBwb3NpdGlvbiwgTUFYX1BBWUxPQURfU0laRSk7CiAgICAgIGNvbnN0IGNodW5rID0gbmV3IFVpbnQ4QXJyYXkoZmlsZURhdGEsIHBvc2l0aW9uLCBsZW5ndGgpOwogICAgICBwb3NpdGlvbiArPSBsZW5ndGg7CgogICAgICBjb25zdCBiYXNlNjQgPSBidG9hKFN0cmluZy5mcm9tQ2hhckNvZGUuYXBwbHkobnVsbCwgY2h1bmspKTsKICAgICAgeWllbGQgewogICAgICAgIHJlc3BvbnNlOiB7CiAgICAgICAgICBhY3Rpb246ICdhcHBlbmQnLAogICAgICAgICAgZmlsZTogZmlsZS5uYW1lLAogICAgICAgICAgZGF0YTogYmFzZTY0LAogICAgICAgIH0sCiAgICAgIH07CiAgICAgIHBlcmNlbnQudGV4dENvbnRlbnQgPQogICAgICAgICAgYCR7TWF0aC5yb3VuZCgocG9zaXRpb24gLyBmaWxlRGF0YS5ieXRlTGVuZ3RoKSAqIDEwMCl9JSBkb25lYDsKICAgIH0KICB9CgogIC8vIEFsbCBkb25lLgogIHlpZWxkIHsKICAgIHJlc3BvbnNlOiB7CiAgICAgIGFjdGlvbjogJ2NvbXBsZXRlJywKICAgIH0KICB9Owp9CgpzY29wZS5nb29nbGUgPSBzY29wZS5nb29nbGUgfHwge307CnNjb3BlLmdvb2dsZS5jb2xhYiA9IHNjb3BlLmdvb2dsZS5jb2xhYiB8fCB7fTsKc2NvcGUuZ29vZ2xlLmNvbGFiLl9maWxlcyA9IHsKICBfdXBsb2FkRmlsZXMsCiAgX3VwbG9hZEZpbGVzQ29udGludWUsCn07Cn0pKHNlbGYpOwo=",
              "ok": true,
              "headers": [
                [
                  "content-type",
                  "application/javascript"
                ]
              ],
              "status": 200,
              "status_text": ""
            }
          },
          "base_uri": "https://localhost:8080/",
          "height": 74
        }
      },
      "cell_type": "code",
      "source": [
        "from google.colab import files\n",
        "uploaded = files.upload()"
      ],
      "execution_count": 14,
      "outputs": [
        {
          "output_type": "display_data",
          "data": {
            "text/html": [
              "\n",
              "     <input type=\"file\" id=\"files-b05a32a8-4d03-4f7a-b08e-1cf39b932f52\" name=\"files[]\" multiple disabled />\n",
              "     <output id=\"result-b05a32a8-4d03-4f7a-b08e-1cf39b932f52\">\n",
              "      Upload widget is only available when the cell has been executed in the\n",
              "      current browser session. Please rerun this cell to enable.\n",
              "      </output>\n",
              "      <script src=\"/nbextensions/google.colab/files.js\"></script> "
            ],
            "text/plain": [
              "<IPython.core.display.HTML object>"
            ]
          },
          "metadata": {
            "tags": []
          }
        },
        {
          "output_type": "stream",
          "text": [
            "Saving WorldHappinessData.csv to WorldHappinessData (1).csv\n"
          ],
          "name": "stdout"
        }
      ]
    },
    {
      "metadata": {
        "id": "kYnQ6TB5JzOp",
        "colab_type": "code",
        "colab": {}
      },
      "cell_type": "code",
      "source": [
        "import io\n",
        "data = pd.read_csv(io.BytesIO(uploaded['WorldHappinessData.csv']))"
      ],
      "execution_count": 0,
      "outputs": []
    },
    {
      "metadata": {
        "id": "7WpM2G6XKGji",
        "colab_type": "code",
        "outputId": "f32854b5-9484-48f6-bffb-ccaf599db1c3",
        "colab": {
          "base_uri": "https://localhost:8080/",
          "height": 402
        }
      },
      "cell_type": "code",
      "source": [
        "data.describe()"
      ],
      "execution_count": 16,
      "outputs": [
        {
          "output_type": "execute_result",
          "data": {
            "text/html": [
              "<div>\n",
              "<style scoped>\n",
              "    .dataframe tbody tr th:only-of-type {\n",
              "        vertical-align: middle;\n",
              "    }\n",
              "\n",
              "    .dataframe tbody tr th {\n",
              "        vertical-align: top;\n",
              "    }\n",
              "\n",
              "    .dataframe thead th {\n",
              "        text-align: right;\n",
              "    }\n",
              "</style>\n",
              "<table border=\"1\" class=\"dataframe\">\n",
              "  <thead>\n",
              "    <tr style=\"text-align: right;\">\n",
              "      <th></th>\n",
              "      <th>year</th>\n",
              "      <th>Life Ladder</th>\n",
              "      <th>Log GDP per capita</th>\n",
              "      <th>Social support</th>\n",
              "      <th>Healthy life expectancy at birth</th>\n",
              "      <th>Freedom to make life choices</th>\n",
              "      <th>Generosity</th>\n",
              "      <th>Perceptions of corruption</th>\n",
              "      <th>Positive affect</th>\n",
              "      <th>Negative affect</th>\n",
              "      <th>Confidence in national government</th>\n",
              "      <th>Democratic Quality</th>\n",
              "      <th>Delivery Quality</th>\n",
              "      <th>Standard deviation of ladder by country-year</th>\n",
              "      <th>Standard deviation/Mean of ladder by country-year</th>\n",
              "    </tr>\n",
              "  </thead>\n",
              "  <tbody>\n",
              "    <tr>\n",
              "      <th>count</th>\n",
              "      <td>1420.000000</td>\n",
              "      <td>1420.000000</td>\n",
              "      <td>1385.000000</td>\n",
              "      <td>1408.000000</td>\n",
              "      <td>1411.000000</td>\n",
              "      <td>1386.000000</td>\n",
              "      <td>1328.000000</td>\n",
              "      <td>1336.000000</td>\n",
              "      <td>1403.000000</td>\n",
              "      <td>1409.000000</td>\n",
              "      <td>1225.000000</td>\n",
              "      <td>1128.000000</td>\n",
              "      <td>1129.000000</td>\n",
              "      <td>1420.000000</td>\n",
              "      <td>1420.000000</td>\n",
              "    </tr>\n",
              "    <tr>\n",
              "      <th>mean</th>\n",
              "      <td>2011.303521</td>\n",
              "      <td>5.428571</td>\n",
              "      <td>9.203860</td>\n",
              "      <td>0.811142</td>\n",
              "      <td>61.965278</td>\n",
              "      <td>0.723822</td>\n",
              "      <td>0.000201</td>\n",
              "      <td>0.755678</td>\n",
              "      <td>0.709873</td>\n",
              "      <td>0.260295</td>\n",
              "      <td>0.464820</td>\n",
              "      <td>-0.143355</td>\n",
              "      <td>-0.002564</td>\n",
              "      <td>1.983658</td>\n",
              "      <td>0.383186</td>\n",
              "    </tr>\n",
              "    <tr>\n",
              "      <th>std</th>\n",
              "      <td>3.149570</td>\n",
              "      <td>1.121719</td>\n",
              "      <td>1.183485</td>\n",
              "      <td>0.119286</td>\n",
              "      <td>8.198405</td>\n",
              "      <td>0.146490</td>\n",
              "      <td>0.159385</td>\n",
              "      <td>0.186446</td>\n",
              "      <td>0.107631</td>\n",
              "      <td>0.082701</td>\n",
              "      <td>0.178399</td>\n",
              "      <td>0.865859</td>\n",
              "      <td>0.961750</td>\n",
              "      <td>0.366721</td>\n",
              "      <td>0.114287</td>\n",
              "    </tr>\n",
              "    <tr>\n",
              "      <th>min</th>\n",
              "      <td>2005.000000</td>\n",
              "      <td>2.687553</td>\n",
              "      <td>6.354652</td>\n",
              "      <td>0.290184</td>\n",
              "      <td>36.167667</td>\n",
              "      <td>0.257534</td>\n",
              "      <td>-0.324367</td>\n",
              "      <td>0.035198</td>\n",
              "      <td>0.362498</td>\n",
              "      <td>0.083426</td>\n",
              "      <td>0.068769</td>\n",
              "      <td>-2.310710</td>\n",
              "      <td>-2.167530</td>\n",
              "      <td>0.863034</td>\n",
              "      <td>0.133908</td>\n",
              "    </tr>\n",
              "    <tr>\n",
              "      <th>25%</th>\n",
              "      <td>2009.000000</td>\n",
              "      <td>4.600384</td>\n",
              "      <td>8.306463</td>\n",
              "      <td>0.750623</td>\n",
              "      <td>57.029228</td>\n",
              "      <td>0.629931</td>\n",
              "      <td>-0.110767</td>\n",
              "      <td>0.698339</td>\n",
              "      <td>0.622200</td>\n",
              "      <td>0.202129</td>\n",
              "      <td>0.328487</td>\n",
              "      <td>-0.800332</td>\n",
              "      <td>-0.705457</td>\n",
              "      <td>1.732018</td>\n",
              "      <td>0.309646</td>\n",
              "    </tr>\n",
              "    <tr>\n",
              "      <th>50%</th>\n",
              "      <td>2011.000000</td>\n",
              "      <td>5.317440</td>\n",
              "      <td>9.378672</td>\n",
              "      <td>0.833718</td>\n",
              "      <td>63.782501</td>\n",
              "      <td>0.739609</td>\n",
              "      <td>-0.017912</td>\n",
              "      <td>0.810556</td>\n",
              "      <td>0.717980</td>\n",
              "      <td>0.249856</td>\n",
              "      <td>0.453570</td>\n",
              "      <td>-0.252632</td>\n",
              "      <td>-0.227479</td>\n",
              "      <td>1.948063</td>\n",
              "      <td>0.367580</td>\n",
              "    </tr>\n",
              "    <tr>\n",
              "      <th>75%</th>\n",
              "      <td>2014.000000</td>\n",
              "      <td>6.269866</td>\n",
              "      <td>10.159828</td>\n",
              "      <td>0.904155</td>\n",
              "      <td>67.936405</td>\n",
              "      <td>0.838298</td>\n",
              "      <td>0.092981</td>\n",
              "      <td>0.882902</td>\n",
              "      <td>0.802945</td>\n",
              "      <td>0.307471</td>\n",
              "      <td>0.592506</td>\n",
              "      <td>0.649054</td>\n",
              "      <td>0.671737</td>\n",
              "      <td>2.191734</td>\n",
              "      <td>0.445621</td>\n",
              "    </tr>\n",
              "    <tr>\n",
              "      <th>max</th>\n",
              "      <td>2016.000000</td>\n",
              "      <td>8.018934</td>\n",
              "      <td>11.815410</td>\n",
              "      <td>0.987343</td>\n",
              "      <td>76.408699</td>\n",
              "      <td>0.983803</td>\n",
              "      <td>0.542249</td>\n",
              "      <td>0.983276</td>\n",
              "      <td>0.943621</td>\n",
              "      <td>0.704590</td>\n",
              "      <td>0.979501</td>\n",
              "      <td>1.538103</td>\n",
              "      <td>2.200550</td>\n",
              "      <td>3.527820</td>\n",
              "      <td>1.022769</td>\n",
              "    </tr>\n",
              "  </tbody>\n",
              "</table>\n",
              "</div>"
            ],
            "text/plain": [
              "              year  Life Ladder  Log GDP per capita  Social support  \\\n",
              "count  1420.000000  1420.000000         1385.000000     1408.000000   \n",
              "mean   2011.303521     5.428571            9.203860        0.811142   \n",
              "std       3.149570     1.121719            1.183485        0.119286   \n",
              "min    2005.000000     2.687553            6.354652        0.290184   \n",
              "25%    2009.000000     4.600384            8.306463        0.750623   \n",
              "50%    2011.000000     5.317440            9.378672        0.833718   \n",
              "75%    2014.000000     6.269866           10.159828        0.904155   \n",
              "max    2016.000000     8.018934           11.815410        0.987343   \n",
              "\n",
              "       Healthy life expectancy at birth  Freedom to make life choices  \\\n",
              "count                       1411.000000                   1386.000000   \n",
              "mean                          61.965278                      0.723822   \n",
              "std                            8.198405                      0.146490   \n",
              "min                           36.167667                      0.257534   \n",
              "25%                           57.029228                      0.629931   \n",
              "50%                           63.782501                      0.739609   \n",
              "75%                           67.936405                      0.838298   \n",
              "max                           76.408699                      0.983803   \n",
              "\n",
              "        Generosity  Perceptions of corruption  Positive affect  \\\n",
              "count  1328.000000                1336.000000      1403.000000   \n",
              "mean      0.000201                   0.755678         0.709873   \n",
              "std       0.159385                   0.186446         0.107631   \n",
              "min      -0.324367                   0.035198         0.362498   \n",
              "25%      -0.110767                   0.698339         0.622200   \n",
              "50%      -0.017912                   0.810556         0.717980   \n",
              "75%       0.092981                   0.882902         0.802945   \n",
              "max       0.542249                   0.983276         0.943621   \n",
              "\n",
              "       Negative affect  Confidence in national government  Democratic Quality  \\\n",
              "count      1409.000000                        1225.000000         1128.000000   \n",
              "mean          0.260295                           0.464820           -0.143355   \n",
              "std           0.082701                           0.178399            0.865859   \n",
              "min           0.083426                           0.068769           -2.310710   \n",
              "25%           0.202129                           0.328487           -0.800332   \n",
              "50%           0.249856                           0.453570           -0.252632   \n",
              "75%           0.307471                           0.592506            0.649054   \n",
              "max           0.704590                           0.979501            1.538103   \n",
              "\n",
              "       Delivery Quality  Standard deviation of ladder by country-year  \\\n",
              "count       1129.000000                                   1420.000000   \n",
              "mean          -0.002564                                      1.983658   \n",
              "std            0.961750                                      0.366721   \n",
              "min           -2.167530                                      0.863034   \n",
              "25%           -0.705457                                      1.732018   \n",
              "50%           -0.227479                                      1.948063   \n",
              "75%            0.671737                                      2.191734   \n",
              "max            2.200550                                      3.527820   \n",
              "\n",
              "       Standard deviation/Mean of ladder by country-year  \n",
              "count                                        1420.000000  \n",
              "mean                                            0.383186  \n",
              "std                                             0.114287  \n",
              "min                                             0.133908  \n",
              "25%                                             0.309646  \n",
              "50%                                             0.367580  \n",
              "75%                                             0.445621  \n",
              "max                                             1.022769  "
            ]
          },
          "metadata": {
            "tags": []
          },
          "execution_count": 16
        }
      ]
    },
    {
      "metadata": {
        "id": "zs3TRtlLLkG-",
        "colab_type": "code",
        "colab": {}
      },
      "cell_type": "code",
      "source": [
        "data1=data[data.year==2016]\n",
        "data1=data1.reset_index(drop = True)"
      ],
      "execution_count": 0,
      "outputs": []
    },
    {
      "metadata": {
        "id": "eB_OomfcMh_X",
        "colab_type": "code",
        "outputId": "d12a2a7b-bc95-453e-9310-22acd25bf8f6",
        "colab": {
          "base_uri": "https://localhost:8080/",
          "height": 309
        }
      },
      "cell_type": "code",
      "source": [
        "data1.head()"
      ],
      "execution_count": 18,
      "outputs": [
        {
          "output_type": "execute_result",
          "data": {
            "text/html": [
              "<div>\n",
              "<style scoped>\n",
              "    .dataframe tbody tr th:only-of-type {\n",
              "        vertical-align: middle;\n",
              "    }\n",
              "\n",
              "    .dataframe tbody tr th {\n",
              "        vertical-align: top;\n",
              "    }\n",
              "\n",
              "    .dataframe thead th {\n",
              "        text-align: right;\n",
              "    }\n",
              "</style>\n",
              "<table border=\"1\" class=\"dataframe\">\n",
              "  <thead>\n",
              "    <tr style=\"text-align: right;\">\n",
              "      <th></th>\n",
              "      <th>WP5 Country</th>\n",
              "      <th>country</th>\n",
              "      <th>year</th>\n",
              "      <th>Life Ladder</th>\n",
              "      <th>Log GDP per capita</th>\n",
              "      <th>Social support</th>\n",
              "      <th>Healthy life expectancy at birth</th>\n",
              "      <th>Freedom to make life choices</th>\n",
              "      <th>Generosity</th>\n",
              "      <th>Perceptions of corruption</th>\n",
              "      <th>Positive affect</th>\n",
              "      <th>Negative affect</th>\n",
              "      <th>Confidence in national government</th>\n",
              "      <th>Democratic Quality</th>\n",
              "      <th>Delivery Quality</th>\n",
              "      <th>Standard deviation of ladder by country-year</th>\n",
              "      <th>Standard deviation/Mean of ladder by country-year</th>\n",
              "    </tr>\n",
              "  </thead>\n",
              "  <tbody>\n",
              "    <tr>\n",
              "      <th>0</th>\n",
              "      <td>Afghanistan</td>\n",
              "      <td>Afghanistan</td>\n",
              "      <td>2016</td>\n",
              "      <td>4.220169</td>\n",
              "      <td>7.497288</td>\n",
              "      <td>0.559072</td>\n",
              "      <td>49.871265</td>\n",
              "      <td>0.522566</td>\n",
              "      <td>0.057393</td>\n",
              "      <td>0.793246</td>\n",
              "      <td>0.564953</td>\n",
              "      <td>0.348332</td>\n",
              "      <td>0.324990</td>\n",
              "      <td>NaN</td>\n",
              "      <td>NaN</td>\n",
              "      <td>1.796219</td>\n",
              "      <td>0.425627</td>\n",
              "    </tr>\n",
              "    <tr>\n",
              "      <th>1</th>\n",
              "      <td>Albania</td>\n",
              "      <td>Albania</td>\n",
              "      <td>2016</td>\n",
              "      <td>4.511101</td>\n",
              "      <td>9.282300</td>\n",
              "      <td>0.638411</td>\n",
              "      <td>68.698380</td>\n",
              "      <td>0.729819</td>\n",
              "      <td>-0.017927</td>\n",
              "      <td>0.901071</td>\n",
              "      <td>0.675244</td>\n",
              "      <td>0.321706</td>\n",
              "      <td>0.400910</td>\n",
              "      <td>NaN</td>\n",
              "      <td>NaN</td>\n",
              "      <td>2.646668</td>\n",
              "      <td>0.586701</td>\n",
              "    </tr>\n",
              "    <tr>\n",
              "      <th>2</th>\n",
              "      <td>Algeria</td>\n",
              "      <td>Algeria</td>\n",
              "      <td>2016</td>\n",
              "      <td>5.388171</td>\n",
              "      <td>9.549138</td>\n",
              "      <td>0.748150</td>\n",
              "      <td>64.829948</td>\n",
              "      <td>NaN</td>\n",
              "      <td>NaN</td>\n",
              "      <td>NaN</td>\n",
              "      <td>0.668838</td>\n",
              "      <td>0.371372</td>\n",
              "      <td>NaN</td>\n",
              "      <td>NaN</td>\n",
              "      <td>NaN</td>\n",
              "      <td>2.109472</td>\n",
              "      <td>0.391501</td>\n",
              "    </tr>\n",
              "    <tr>\n",
              "      <th>3</th>\n",
              "      <td>Argentina</td>\n",
              "      <td>Argentina</td>\n",
              "      <td>2016</td>\n",
              "      <td>6.427221</td>\n",
              "      <td>NaN</td>\n",
              "      <td>0.882819</td>\n",
              "      <td>67.443993</td>\n",
              "      <td>0.847702</td>\n",
              "      <td>NaN</td>\n",
              "      <td>0.850924</td>\n",
              "      <td>0.841907</td>\n",
              "      <td>0.311646</td>\n",
              "      <td>0.419562</td>\n",
              "      <td>NaN</td>\n",
              "      <td>NaN</td>\n",
              "      <td>2.127109</td>\n",
              "      <td>0.330953</td>\n",
              "    </tr>\n",
              "    <tr>\n",
              "      <th>4</th>\n",
              "      <td>Armenia</td>\n",
              "      <td>Armenia</td>\n",
              "      <td>2016</td>\n",
              "      <td>4.325472</td>\n",
              "      <td>8.989569</td>\n",
              "      <td>0.709218</td>\n",
              "      <td>65.409470</td>\n",
              "      <td>0.610987</td>\n",
              "      <td>-0.155814</td>\n",
              "      <td>0.921421</td>\n",
              "      <td>0.593600</td>\n",
              "      <td>0.437228</td>\n",
              "      <td>0.184713</td>\n",
              "      <td>NaN</td>\n",
              "      <td>NaN</td>\n",
              "      <td>2.126364</td>\n",
              "      <td>0.491591</td>\n",
              "    </tr>\n",
              "  </tbody>\n",
              "</table>\n",
              "</div>"
            ],
            "text/plain": [
              "   WP5 Country      country  year  Life Ladder  Log GDP per capita  \\\n",
              "0  Afghanistan  Afghanistan  2016     4.220169            7.497288   \n",
              "1      Albania      Albania  2016     4.511101            9.282300   \n",
              "2      Algeria      Algeria  2016     5.388171            9.549138   \n",
              "3    Argentina    Argentina  2016     6.427221                 NaN   \n",
              "4      Armenia      Armenia  2016     4.325472            8.989569   \n",
              "\n",
              "   Social support  Healthy life expectancy at birth  \\\n",
              "0        0.559072                         49.871265   \n",
              "1        0.638411                         68.698380   \n",
              "2        0.748150                         64.829948   \n",
              "3        0.882819                         67.443993   \n",
              "4        0.709218                         65.409470   \n",
              "\n",
              "   Freedom to make life choices  Generosity  Perceptions of corruption  \\\n",
              "0                      0.522566    0.057393                   0.793246   \n",
              "1                      0.729819   -0.017927                   0.901071   \n",
              "2                           NaN         NaN                        NaN   \n",
              "3                      0.847702         NaN                   0.850924   \n",
              "4                      0.610987   -0.155814                   0.921421   \n",
              "\n",
              "   Positive affect  Negative affect  Confidence in national government  \\\n",
              "0         0.564953         0.348332                           0.324990   \n",
              "1         0.675244         0.321706                           0.400910   \n",
              "2         0.668838         0.371372                                NaN   \n",
              "3         0.841907         0.311646                           0.419562   \n",
              "4         0.593600         0.437228                           0.184713   \n",
              "\n",
              "   Democratic Quality  Delivery Quality  \\\n",
              "0                 NaN               NaN   \n",
              "1                 NaN               NaN   \n",
              "2                 NaN               NaN   \n",
              "3                 NaN               NaN   \n",
              "4                 NaN               NaN   \n",
              "\n",
              "   Standard deviation of ladder by country-year  \\\n",
              "0                                      1.796219   \n",
              "1                                      2.646668   \n",
              "2                                      2.109472   \n",
              "3                                      2.127109   \n",
              "4                                      2.126364   \n",
              "\n",
              "   Standard deviation/Mean of ladder by country-year  \n",
              "0                                           0.425627  \n",
              "1                                           0.586701  \n",
              "2                                           0.391501  \n",
              "3                                           0.330953  \n",
              "4                                           0.491591  "
            ]
          },
          "metadata": {
            "tags": []
          },
          "execution_count": 18
        }
      ]
    },
    {
      "metadata": {
        "id": "ufB3rAmGMzuE",
        "colab_type": "code",
        "colab": {}
      },
      "cell_type": "code",
      "source": [
        "from sklearn.impute import SimpleImputer\n",
        "X = data1.drop(['WP5 Country', 'country' ,'year', 'Life Ladder', 'Democratic Quality', 'Delivery Quality'], axis = 1).values\n",
        "y = data1[\"Life Ladder\"].values\n",
        "imp = SimpleImputer(missing_values=np.nan ,strategy=\"mean\") ## imputing missing values\n",
        "X = imp.fit_transform(X)"
      ],
      "execution_count": 0,
      "outputs": []
    },
    {
      "metadata": {
        "id": "bMpdx0qvdHZT",
        "colab_type": "code",
        "colab": {}
      },
      "cell_type": "code",
      "source": [
        "np.random.seed(34)\n",
        "from sklearn.model_selection import train_test_split\n",
        "xtrain,xtest,ytrain,ytest = train_test_split(X, y)"
      ],
      "execution_count": 0,
      "outputs": []
    },
    {
      "metadata": {
        "id": "rEIJYpi1dzLY",
        "colab_type": "code",
        "colab": {
          "base_uri": "https://localhost:8080/",
          "height": 68
        },
        "outputId": "0f2c5593-17f5-4533-f81d-1bc83334fa51"
      },
      "cell_type": "code",
      "source": [
        "from sklearn.linear_model import LinearRegression as LR\n",
        "alg=LR()\n",
        "alg.fit(xtrain,ytrain)\n",
        "print('Intercept: ',alg.intercept_)\n",
        "print(\"Coefficients : \",alg.coef_)"
      ],
      "execution_count": 41,
      "outputs": [
        {
          "output_type": "stream",
          "text": [
            "Intercept:  1.845169717673365\n",
            "Coefficients :  [ 0.19312163  0.98729015  0.00911693  0.21347966  1.08197935 -0.57807912\n",
            "  0.94716352  0.96617867 -0.08653845  1.23398145 -6.78281717]\n"
          ],
          "name": "stdout"
        }
      ]
    },
    {
      "metadata": {
        "id": "HO-p6mIYfLST",
        "colab_type": "code",
        "colab": {
          "base_uri": "https://localhost:8080/",
          "height": 51
        },
        "outputId": "1b0acfe5-1cd9-496d-d4f1-399d47ef648e"
      },
      "cell_type": "code",
      "source": [
        "from sklearn.metrics import r2_score\n",
        "def AccuracyScore(ytrue,ypred):\n",
        "    return r2_score(ytrue,ypred)\n",
        "ypred = alg.predict(xtest)\n",
        "print('Accuracy of prediction on training set is : ', AccuracyScore(ytrain, alg.predict(xtrain)))\n",
        "print('Accuracy of prediction on test set is : ', AccuracyScore(ytest, ypred))"
      ],
      "execution_count": 45,
      "outputs": [
        {
          "output_type": "stream",
          "text": [
            "Accuracy of prediction on training set is :  0.9220837439291737\n",
            "Accuracy of prediction on test set is :  0.9062484630924165\n"
          ],
          "name": "stdout"
        }
      ]
    },
    {
      "metadata": {
        "id": "rMCP1mFck_I9",
        "colab_type": "text"
      },
      "cell_type": "markdown",
      "source": [
        "# Data Visualisations and Correlations"
      ]
    },
    {
      "metadata": {
        "id": "B6X5_o16k-Nt",
        "colab_type": "code",
        "colab": {}
      },
      "cell_type": "code",
      "source": [
        "import scipy as sp\n",
        "def PearsonR(x,y):\n",
        "    return(sp.stats.pearsonr(x,y))"
      ],
      "execution_count": 0,
      "outputs": []
    },
    {
      "metadata": {
        "id": "kQUmXhpRjIGr",
        "colab_type": "code",
        "colab": {
          "base_uri": "https://localhost:8080/",
          "height": 312
        },
        "outputId": "ff02875d-d461-4871-dac5-e63ebeb0865c"
      },
      "cell_type": "code",
      "source": [
        "plt.scatter(xtrain[:,0],ytrain,color=\"red\", label=\"training data\")\n",
        "plt.scatter(xtest[:,0],ypred,color=\"blue\" ,label=\"predicted data on test dataset\")\n",
        "alg_pred=LR()\n",
        "alg_pred.fit(xtrain[:,0].reshape(-1,1),ytrain)\n",
        "plt.plot(xtrain[:,0],alg_pred.predict(xtrain[:,0].reshape(-1,1)),color=\"blue\")\n",
        "plt.xlabel(\"GDP-Countries\")\n",
        "plt.ylabel(\"Happiness Index\")\n",
        "plt.title(\"Graph of GDP vs Happiness Index\")\n",
        "plt.legend(loc='upper left')\n",
        "plt.show()\n",
        "\n",
        "# Metrics for judging the result, calculating correlation\n",
        "x=xtest[:,0]\n",
        "y=alg_pred.predict(ytest.reshape(-1,1))\n",
        "print('Correlation between data is : ',PearsonR(x,y)[0])"
      ],
      "execution_count": 50,
      "outputs": [
        {
          "output_type": "display_data",
          "data": {
            "image/png": "[encoded data removed]",
            "text/plain": [
              "<Figure size 432x288 with 1 Axes>"
            ]
          },
          "metadata": {
            "tags": []
          }
        },
        {
          "output_type": "stream",
          "text": [
            "Correlation between data is :  0.6370358390071219\n"
          ],
          "name": "stdout"
        }
      ]
    },
    {
      "metadata": {
        "id": "I9OUS8N9nLIq",
        "colab_type": "code",
        "colab": {
          "base_uri": "https://localhost:8080/",
          "height": 312
        },
        "outputId": "0b725682-8086-459e-c1b9-5c41a2a81a7d"
      },
      "cell_type": "code",
      "source": [
        "plt.scatter(xtrain[:,1],ytrain,color=\"red\", label=\"training data\")\n",
        "plt.scatter(xtest[:,1],ypred,color=\"blue\", label=\"predicted data on test dataset\")\n",
        "alg_pred=LR()\n",
        "alg_pred.fit(xtrain[:,1].reshape(-1,1),ytrain)\n",
        "plt.plot(xtrain[:,1],alg_pred.predict(xtrain[:,1].reshape(-1,1)),color=\"blue\")\n",
        "plt.xlabel(\"Social Support(Country, Democracy)\")\n",
        "plt.ylabel(\"Happiness Index\")\n",
        "plt.title(\"Graph of Social Support(Retirement, Democracy or Good Leadership) vs Happiness\")\n",
        "plt.legend(loc='upper left')\n",
        "\n",
        "plt.show()\n",
        "x=xtest[:,1]\n",
        "y=alg_pred.predict(ytest.reshape(-1,1))\n",
        "print('Correlation between data is : ',PearsonR(x,y)[0])"
      ],
      "execution_count": 51,
      "outputs": [
        {
          "output_type": "display_data",
          "data": {
            "image/png": "[encoded data removed]",
            "text/plain": [
              "<Figure size 432x288 with 1 Axes>"
            ]
          },
          "metadata": {
            "tags": []
          }
        },
        {
          "output_type": "stream",
          "text": [
            "Correlation between data is :  0.7429338796711992\n"
          ],
          "name": "stdout"
        }
      ]
    },
    {
      "metadata": {
        "id": "D9PjENMAnW6l",
        "colab_type": "code",
        "colab": {
          "base_uri": "https://localhost:8080/",
          "height": 312
        },
        "outputId": "8080e702-1694-4a6d-c59e-6f5d196997b1"
      },
      "cell_type": "code",
      "source": [
        "plt.scatter(xtrain[:,2],ytrain,color=\"red\", label=\"training data\")\n",
        "plt.scatter(xtest[:,2],ypred,color=\"blue\", label=\"predicted data\")\n",
        "alg_pred=LR()\n",
        "alg_pred.fit(xtrain[:,2].reshape(-1,1),ytrain)\n",
        "plt.plot(xtrain[:,2],alg_pred.predict(xtrain[:,2].reshape(-1,1)),color=\"blue\")\n",
        "plt.xlabel(\"Life Expectancy\")\n",
        "plt.ylabel(\"Happiness Index\")\n",
        "plt.title(\"Graph of Life Expectancy vs Happiness\")\n",
        "plt.legend(loc='upper left')\n",
        "\n",
        "plt.show()\n",
        "x=xtest[:,2]\n",
        "y=alg_pred.predict(ytest.reshape(-1,1))\n",
        "print('Correlation between data is : ',PearsonR(x,y)[0])"
      ],
      "execution_count": 52,
      "outputs": [
        {
          "output_type": "display_data",
          "data": {
            "image/png": "[encoded data removed]",
            "text/plain": [
              "<Figure size 432x288 with 1 Axes>"
            ]
          },
          "metadata": {
            "tags": []
          }
        },
        {
          "output_type": "stream",
          "text": [
            "Correlation between data is :  0.7541589388014511\n"
          ],
          "name": "stdout"
        }
      ]
    },
    {
      "metadata": {
        "id": "j8zhnFPQnWyR",
        "colab_type": "code",
        "colab": {
          "base_uri": "https://localhost:8080/",
          "height": 312
        },
        "outputId": "b45d594f-7db7-492f-d130-c9bedb03eba1"
      },
      "cell_type": "code",
      "source": [
        "plt.scatter(xtrain[:,3],ytrain,color=\"red\", label=\"training data\")\n",
        "plt.scatter(xtest[:,3],ypred,color=\"blue\", label=\"predicted data\")\n",
        "alg_pred=LR()\n",
        "alg_pred.fit(xtrain[:,3].reshape(-1,1),ytrain)\n",
        "plt.plot(xtrain[:,3],alg_pred.predict(xtrain[:,3].reshape(-1,1)),color=\"blue\")\n",
        "plt.xlabel(\"Government Policies towards freedom\")\n",
        "plt.ylabel(\"Happiness Index\")\n",
        "plt.title(\"Graph of Government Freedom Policy(Eg. China 1 child policy etc.) vs Happiness\")\n",
        "plt.legend(loc='upper left')\n",
        "\n",
        "plt.show()\n",
        "x=xtest[:,3]\n",
        "y=alg_pred.predict(ytest.reshape(-1,1))\n",
        "print('Correlation between data is : ',PearsonR(x,y)[0])"
      ],
      "execution_count": 53,
      "outputs": [
        {
          "output_type": "display_data",
          "data": {
            "image/png": "[encoded data removed]",
            "text/plain": [
              "<Figure size 432x288 with 1 Axes>"
            ]
          },
          "metadata": {
            "tags": []
          }
        },
        {
          "output_type": "stream",
          "text": [
            "Correlation between data is :  0.43275977214116784\n"
          ],
          "name": "stdout"
        }
      ]
    },
    {
      "metadata": {
        "id": "jhlJT16rnhqf",
        "colab_type": "code",
        "colab": {
          "base_uri": "https://localhost:8080/",
          "height": 312
        },
        "outputId": "518209e3-5fe7-4209-e244-1ca014cd415e"
      },
      "cell_type": "code",
      "source": [
        "plt.scatter(xtrain[:,4],ytrain,color=\"red\", label=\"training data\")\n",
        "plt.scatter(xtest[:,4],ypred,color=\"blue\", label=\"predicted data\")\n",
        "# plt.scatter(xtest[:,0],ytest,color=\"black\")\n",
        "alg_pred=LR()\n",
        "alg_pred.fit(xtrain[:,4].reshape(-1,1),ytrain)\n",
        "plt.plot(xtrain[:,4],alg_pred.predict(xtrain[:,4].reshape(-1,1)),color=\"blue\") \n",
        "plt.xlabel(\"Generousity\")\n",
        "plt.ylabel(\"Happiness Index\")\n",
        "plt.title(\"Graph of Generousity vs Happiness\")\n",
        "plt.legend(loc='lower right')\n",
        "\n",
        "plt.show()\n",
        "x=xtest[:,4]\n",
        "y=alg_pred.predict(ytest.reshape(-1,1))\n",
        "print('Correlation between data is : ',PearsonR(x,y)[0])"
      ],
      "execution_count": 54,
      "outputs": [
        {
          "output_type": "display_data",
          "data": {
            "image/png": "[encoded data removed]",
            "text/plain": [
              "<Figure size 432x288 with 1 Axes>"
            ]
          },
          "metadata": {
            "tags": []
          }
        },
        {
          "output_type": "stream",
          "text": [
            "Correlation between data is :  0.06836845016296318\n"
          ],
          "name": "stdout"
        }
      ]
    },
    {
      "metadata": {
        "id": "zuLRbMgxnx2i",
        "colab_type": "code",
        "colab": {
          "base_uri": "https://localhost:8080/",
          "height": 312
        },
        "outputId": "045f477d-2e65-46cd-9004-ef489bfc7140"
      },
      "cell_type": "code",
      "source": [
        "plt.scatter(xtrain[:,5],ytrain,color=\"red\", label=\"training data\")\n",
        "plt.scatter(xtest[:,5],ypred,color=\"blue\", label=\"predicted data\")\n",
        "alg_pred=LR()\n",
        "alg_pred.fit(xtrain[:,5].reshape(-1,1),ytrain)\n",
        "plt.plot(xtrain[:,5],alg_pred.predict(xtrain[:,5].reshape(-1,1)),color=\"blue\")\n",
        "plt.xlabel(\"Perception Towards Corruption\")\n",
        "plt.ylabel(\"Happiness Index\")\n",
        "plt.title(\"Graph of Perception Towards Corruption vs Happiness\")\n",
        "plt.legend(loc='lower left')\n",
        "\n",
        "plt.show()\n",
        "x=xtest[:,0]\n",
        "y=alg_pred.predict(ytest.reshape(-1,1))\n",
        "print('Correlation between data is : ',PearsonR(x,y)[0])"
      ],
      "execution_count": 55,
      "outputs": [
        {
          "output_type": "display_data",
          "data": {
            "image/png": "[encoded data removed]",
            "text/plain": [
              "<Figure size 432x288 with 1 Axes>"
            ]
          },
          "metadata": {
            "tags": []
          }
        },
        {
          "output_type": "stream",
          "text": [
            "Correlation between data is :  -0.6370358390071219\n"
          ],
          "name": "stdout"
        }
      ]
    },
    {
      "metadata": {
        "id": "lItcVatcn0Mp",
        "colab_type": "code",
        "colab": {
          "base_uri": "https://localhost:8080/",
          "height": 312
        },
        "outputId": "4986d472-f053-4e9f-a49a-78669a0bff59"
      },
      "cell_type": "code",
      "source": [
        "plt.scatter(xtrain[:,6],ytrain,color=\"red\", label=\"training data\")\n",
        "plt.scatter(xtest[:,6],ypred,color=\"blue\", label=\"predicted data\")\n",
        "alg_pred=LR()\n",
        "alg_pred.fit(xtrain[:,6].reshape(-1,1),ytrain)\n",
        "plt.plot(xtrain[:,6],alg_pred.predict(xtrain[:,6].reshape(-1,1)),color=\"blue\")\n",
        "plt.xlabel(\"Positivity\")\n",
        "plt.ylabel(\"Happiness Index\")\n",
        "plt.title(\"Graph of Positivity vs Happiness\")\n",
        "plt.legend(loc='upper left')\n",
        "\n",
        "plt.show()\n",
        "x=xtest[:,0]\n",
        "y=alg_pred.predict(ytest.reshape(-1,1))\n",
        "print('Correlation between data is : ',PearsonR(x,y)[0])"
      ],
      "execution_count": 56,
      "outputs": [
        {
          "output_type": "display_data",
          "data": {
            "image/png": "[encoded data removed]",
            "text/plain": [
              "<Figure size 432x288 with 1 Axes>"
            ]
          },
          "metadata": {
            "tags": []
          }
        },
        {
          "output_type": "stream",
          "text": [
            "Correlation between data is :  0.6370358390071218\n"
          ],
          "name": "stdout"
        }
      ]
    },
    {
      "metadata": {
        "id": "EXPdnPXSn95L",
        "colab_type": "code",
        "colab": {
          "base_uri": "https://localhost:8080/",
          "height": 312
        },
        "outputId": "0345b739-4289-470a-c5ee-b19d5be65b5d"
      },
      "cell_type": "code",
      "source": [
        "plt.scatter(xtrain[:,7],ytrain,color=\"red\", label=\"training data\")\n",
        "plt.scatter(xtest[:,7],ypred,color=\"blue\", label=\"predicted data\")\n",
        "alg_pred=LR()\n",
        "alg_pred.fit(xtrain[:,7].reshape(-1,1),ytrain)\n",
        "plt.plot(xtrain[:,7],alg_pred.predict(xtrain[:,7].reshape(-1,1)),color=\"blue\")\n",
        "plt.xlabel(\"Negativity\")\n",
        "plt.ylabel(\"Happiness Index\")\n",
        "plt.title(\"Graph of Negativity vs Happiness Index\")\n",
        "plt.legend(loc='upper right')\n",
        "\n",
        "plt.show()\n",
        "x=xtest[:,0]\n",
        "y=alg_pred.predict(ytest.reshape(-1,1))\n",
        "print('Correlation between data is : ',PearsonR(x,y)[0])"
      ],
      "execution_count": 57,
      "outputs": [
        {
          "output_type": "display_data",
          "data": {
            "image/png": "[encoded data removed]",
            "text/plain": [
              "<Figure size 432x288 with 1 Axes>"
            ]
          },
          "metadata": {
            "tags": []
          }
        },
        {
          "output_type": "stream",
          "text": [
            "Correlation between data is :  -0.6370358390071219\n"
          ],
          "name": "stdout"
        }
      ]
    }
  ]
}